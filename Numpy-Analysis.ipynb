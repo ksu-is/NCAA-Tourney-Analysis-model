{
 "cells": [
  {
   "cell_type": "markdown",
   "metadata": {},
   "source": [
    "This Notebook is for numpy analysis"
   ]
  },
  {
   "cell_type": "code",
   "execution_count": 6,
   "metadata": {},
   "outputs": [],
   "source": [
    "import numpy as np\n",
    "import pandas as pd\n",
    "import seaborn"
   ]
  },
  {
   "cell_type": "code",
   "execution_count": 12,
   "metadata": {},
   "outputs": [],
   "source": [
    "np_csv = np.genfromtxt('NCAA_data.csv',delimiter=',')\n",
    "schools = np_csv[4:,5]\n",
    "wins = np_csv[:,5]"
   ]
  },
  {
   "cell_type": "code",
   "execution_count": 13,
   "metadata": {},
   "outputs": [
    {
     "name": "stdout",
     "output_type": "stream",
     "text": [
      "[ 3.  7.  7.  6.  7.  6.  7. 10. 10.  9.  4. 10. 12.  8. 11. 14.  7. 16.\n",
      " 11.  5. 11.  4. 16.  9. 14. 12. 17. 10.  7. 10. 12. 13.  5. 15. 14. 14.\n",
      " 16. 14. 14.  9. 12. 18. 14. 13.  9. 15.  7.  8. 16. 14. 11. 14.  5. 19.\n",
      " 13. 12. 16. 16. 18. 17.  8.  6.  9. 21.  5. 17.]\n"
     ]
    }
   ],
   "source": [
    "print(schools)"
   ]
  },
  {
   "cell_type": "code",
   "execution_count": 10,
   "metadata": {},
   "outputs": [
    {
     "data": {
      "text/plain": [
       "array([nan, nan,  4.,  6.,  3.,  7.,  7.,  6.,  7.,  6.,  7., 10., 10.,\n",
       "        9.,  4., 10., 12.,  8., 11., 14.,  7., 16., 11.,  5., 11.,  4.,\n",
       "       16.,  9., 14., 12., 17., 10.,  7., 10., 12., 13.,  5., 15., 14.,\n",
       "       14., 16., 14., 14.,  9., 12., 18., 14., 13.,  9., 15.,  7.,  8.,\n",
       "       16., 14., 11., 14.,  5., 19., 13., 12., 16., 16., 18., 17.,  8.,\n",
       "        6.,  9., 21.,  5., 17.])"
      ]
     },
     "execution_count": 10,
     "metadata": {},
     "output_type": "execute_result"
    }
   ],
   "source": [
    "schools"
   ]
  },
  {
   "cell_type": "code",
   "execution_count": 11,
   "metadata": {},
   "outputs": [
    {
     "name": "stdout",
     "output_type": "stream",
     "text": [
      "[[   nan    nan    nan ...    nan    nan    nan]\n",
      " [   nan    nan    nan ...    nan    nan    nan]\n",
      " [  1.      nan    nan ... 125.15  86.2   38.95]\n",
      " ...\n",
      " [ 66.      nan    nan ... 110.49  97.49  13.  ]\n",
      " [ 67.      nan    nan ... 111.59  98.1   13.49]\n",
      " [ 68.      nan    nan ... 106.13  93.04  13.09]]\n"
     ]
    }
   ],
   "source": [
    "print(np_csv)"
   ]
  },
  {
   "cell_type": "code",
   "execution_count": null,
   "metadata": {},
   "outputs": [],
   "source": []
  }
 ],
 "metadata": {
  "kernelspec": {
   "display_name": "Python 3",
   "language": "python",
   "name": "python3"
  },
  "language_info": {
   "codemirror_mode": {
    "name": "ipython",
    "version": 3
   },
   "file_extension": ".py",
   "mimetype": "text/x-python",
   "name": "python",
   "nbconvert_exporter": "python",
   "pygments_lexer": "ipython3",
   "version": "3.7.1"
  }
 },
 "nbformat": 4,
 "nbformat_minor": 2
}
