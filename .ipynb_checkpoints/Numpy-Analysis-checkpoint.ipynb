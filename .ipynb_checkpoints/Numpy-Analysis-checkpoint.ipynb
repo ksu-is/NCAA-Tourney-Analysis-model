{
 "cells": [
  {
   "cell_type": "markdown",
   "metadata": {},
   "source": [
    "This Notebook is for numpy analysis"
   ]
  },
  {
   "cell_type": "code",
   "execution_count": 3,
   "metadata": {},
   "outputs": [],
   "source": [
    "import numpy as np\n",
    "import pandas as pd\n",
    "import seaborn"
   ]
  },
  {
   "cell_type": "code",
   "execution_count": 5,
   "metadata": {
    "scrolled": true
   },
   "outputs": [
    {
     "name": "stdout",
     "output_type": "stream",
     "text": [
      "shape: (69, 15)\n",
      "length: 69\n",
      "diminsions: 2\n",
      "size: 1035 = 70 * 18\n",
      "data type: float64\n",
      "data type name: float64\n"
     ]
    }
   ],
   "source": [
    "np_csv = np.genfromtxt('NCAA_data.csv',delimiter=',')\n",
    "print('shape:',np_csv.shape)\n",
    "print('length:',len(np_csv))\n",
    "print('diminsions:',np_csv.ndim)\n",
    "print('size:',np_csv.size, '= 70 * 18')\n",
    "print('data type:',np_csv.dtype)\n",
    "print('data type name:',np_csv.dtype.name)"
   ]
  },
  {
   "cell_type": "code",
   "execution_count": 7,
   "metadata": {},
   "outputs": [
    {
     "data": {
      "text/plain": [
       "dtype('<U32')"
      ]
     },
     "execution_count": 7,
     "metadata": {},
     "output_type": "execute_result"
    }
   ],
   "source": [
    "np_title.dtype"
   ]
  },
  {
   "cell_type": "code",
   "execution_count": 8,
   "metadata": {},
   "outputs": [
    {
     "data": {
      "text/plain": [
       "array(['1.0', 'nan', 'nan', '33.0', '4.0', '87.6', '64.9', '22.78',\n",
       "       '5.02', '18.6', '9.21', '27.8', '125.15', '86.2', '38.95'],\n",
       "      dtype='<U32')"
      ]
     },
     "execution_count": 8,
     "metadata": {},
     "output_type": "execute_result"
    }
   ],
   "source": [
    "np_title"
   ]
  },
  {
   "cell_type": "markdown",
   "metadata": {},
   "source": [
    "Numpy won't work well because the data is supposed to be homogenious. Because the table is made up of numbers and strings, the strings print as 'nan'."
   ]
  }
 ],
 "metadata": {
  "kernelspec": {
   "display_name": "Python 3",
   "language": "python",
   "name": "python3"
  },
  "language_info": {
   "codemirror_mode": {
    "name": "ipython",
    "version": 3
   },
   "file_extension": ".py",
   "mimetype": "text/x-python",
   "name": "python",
   "nbconvert_exporter": "python",
   "pygments_lexer": "ipython3",
   "version": "3.7.1"
  }
 },
 "nbformat": 4,
 "nbformat_minor": 2
}
