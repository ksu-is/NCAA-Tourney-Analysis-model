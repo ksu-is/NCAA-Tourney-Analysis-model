{
 "cells": [
  {
   "cell_type": "code",
   "execution_count": null,
   "metadata": {},
   "outputs": [],
   "source": [
    "import pandas as pd\n",
    "import seaborn as sns; sns.set(style=\"white\", color_codes=True)\n",
    "import matplotlib.pyplot as plt\n",
    "import warnings\n",
    "warnings.filterwarnings(\"ignore\")"
   ]
  },
  {
   "cell_type": "code",
   "execution_count": null,
   "metadata": {},
   "outputs": [],
   "source": [
    "filename = 'NCAA_data.csv'\n",
    "data = pd.read_csv(filename)"
   ]
  },
  {
   "cell_type": "code",
   "execution_count": null,
   "metadata": {},
   "outputs": [],
   "source": [
    "data.info()"
   ]
  },
  {
   "cell_type": "markdown",
   "metadata": {},
   "source": [
    "# Glossary\n",
    "- **Rk** -- Rank\n",
    " - **School** -- * = NCAA Tournament appearance\n",
    " - **Conf** -- Conference\n",
    " - **W** -- Wins\n",
    " - **L** -- Losses\n",
    " - **Pts** -- Points Per Game\n",
    " - **Opp** -- Opponent Points Per Game\n",
    " - **MOV** -- Margin of Victory = Pts - Opp\n",
    " - **SOS** -- Strength of Schedule \n",
    "   - A rating of strength of schedule. The rating is denominated in points above/below average, where zero is average. Non-Division I games are excluded from the ratings.\n",
    " - **SRS**\n",
    "   - **OSRS** -- The offensive component of the Simple Rating System (SRS) \n",
    "     - A rating that takes into account average point differential and strength of schedule. The rating is denominated in points above/below average, where zero is average. Non-Division I games are excluded from the ratings.\n",
    "   - **DSRS** -- The defensive component of the Simple Rating System (SRS) \n",
    "     - A rating that takes into account average point differential and strength of schedule. The rating is denominated in points above/below average, where zero is average. Non-Division I games are excluded from the ratings.\n",
    "   - **SRS** -- Simple Rating System\n",
    "     - A rating that takes into account average point differential and strength of schedule. The rating is denominated in points above/below average, where zero is average. Non-Division I games are excluded from the ratings.\n",
    " - **Adjusted**\n",
    "   - **ORtg** -- Offensive Rating = 100 * (PTS / Poss)\n",
    "     - An estimate of points scored (for teams) or points produced (for players) per 100 possessions.\n",
    "   - **DRtg** -- Defensive Rating = 100 * (Opp PTS / Poss)\n",
    "     - An estimate of points allowed per 100 possessions.\n",
    "   - **NRtg** -- Net Rating = 100 * ((PTS - Opp PTS) / Poss))\n",
    "     - An estimate of point differential per 100 possessions."
   ]
  },
  {
   "cell_type": "code",
   "execution_count": null,
   "metadata": {
    "scrolled": true
   },
   "outputs": [],
   "source": [
    "print(data.head())"
   ]
  },
  {
   "cell_type": "code",
   "execution_count": null,
   "metadata": {},
   "outputs": [],
   "source": [
    "print(data.tail())"
   ]
  },
  {
   "cell_type": "markdown",
   "metadata": {},
   "source": [
    "### We hypothesize that Rank has the most predictive abilities for determining the Winner of March Madness \n",
    "### So which metric determines a teams rank? We hypothesize either Wins, Average Points, MOV, SRS, or NRtg."
   ]
  },
  {
   "cell_type": "markdown",
   "metadata": {},
   "source": [
    "# Correlation"
   ]
  },
  {
   "cell_type": "code",
   "execution_count": null,
   "metadata": {
    "scrolled": false
   },
   "outputs": [],
   "source": [
    "f,ax = plt.subplots(figsize=(8, 8))\n",
    "sns.heatmap(data.corr(), annot=True, linewidths=.5, fmt= '.2f',ax=ax, cmap=\"RdBu\")\n",
    "plt.show()"
   ]
  },
  {
   "cell_type": "markdown",
   "metadata": {},
   "source": [
    "# Those who Win"
   ]
  },
  {
   "cell_type": "code",
   "execution_count": null,
   "metadata": {},
   "outputs": [],
   "source": [
    "print('**All numbers rounded**')\n",
    "print(\"The average team wins {:.0f} games,\\n99% of teams win {:.0f} games or less,\\nwhile the most games won is is {:.0f}, which belongs to rank 3.\".format(data['W'].mean(),data['W'].quantile(0.99), data['W'].max()))"
   ]
  },
  {
   "cell_type": "code",
   "execution_count": null,
   "metadata": {},
   "outputs": [],
   "source": [
    "sns.jointplot(\"Rk\", \"W\", data=data, kind=\"reg\", xlim=(70, 0), ylim=(0, 40), color=\"b\", height=8)"
   ]
  },
  {
   "cell_type": "markdown",
   "metadata": {},
   "source": [
    "While wins is negativly correlated to Rank, the third best team has the most wins. Thus, wins could not directly predict Rank 1."
   ]
  },
  {
   "cell_type": "markdown",
   "metadata": {},
   "source": [
    "# Those who Score"
   ]
  },
  {
   "cell_type": "code",
   "execution_count": null,
   "metadata": {
    "scrolled": false
   },
   "outputs": [],
   "source": [
    "print('**All numbers rounded**')\n",
    "print(\"The average team scores {:.0f} points/game,\\n99% of teams score {:.0f} points/game or less,\\nwhile the highest points/game average is {:.0f}, which belongs to rank 1.\".format(data['Pts'].mean(),data['Pts'].quantile(0.99), data['Pts'].max()))"
   ]
  },
  {
   "cell_type": "code",
   "execution_count": null,
   "metadata": {
    "scrolled": false
   },
   "outputs": [],
   "source": [
    "sns.jointplot(\"Rk\", \"Pts\", data=data, kind=\"reg\", xlim=(70, 0), ylim=(65, 90), color=\"b\", height=8)"
   ]
  },
  {
   "cell_type": "markdown",
   "metadata": {},
   "source": [
    "While Rank 1 does have the highest average points, the correlation to Rank is pretty weak.\n",
    "Perhaps this is because some teams have easier schedules than other.\n",
    "So, lets take the schedule into consideration:"
   ]
  },
  {
   "cell_type": "markdown",
   "metadata": {},
   "source": [
    "# Those who blowout their opponents"
   ]
  },
  {
   "cell_type": "code",
   "execution_count": null,
   "metadata": {
    "scrolled": true
   },
   "outputs": [],
   "source": [
    "print('**All numbers rounded**')\n",
    "print(\"The average team beats their oppenents by {:.0f} points/game,\\n99% of teams beat their oppenents by {:.0f} points/game or less,\\nwhile the the team that blows out all their opponents typically wins by {:.0f} points/game, which belongs to rank 1.\".format(data['MOV'].mean(),data['MOV'].quantile(0.99), data['MOV'].max()))"
   ]
  },
  {
   "cell_type": "code",
   "execution_count": null,
   "metadata": {
    "scrolled": false
   },
   "outputs": [],
   "source": [
    "sns.jointplot(\"Rk\", \"MOV\", data=data, kind=\"reg\", xlim=(70, 0), ylim=(-5, 30), color=\"b\", height=8)"
   ]
  },
  {
   "cell_type": "markdown",
   "metadata": {},
   "source": [
    "Rank 1 beats every team worse than any other team, but there are still high MOV's in lowest rank teams"
   ]
  },
  {
   "cell_type": "markdown",
   "metadata": {},
   "source": [
    "# Those who blowout better opponents"
   ]
  },
  {
   "cell_type": "code",
   "execution_count": null,
   "metadata": {
    "scrolled": true
   },
   "outputs": [],
   "source": [
    "print('**All numbers rounded**')\n",
    "print(\"The average team beats good oppenents by {:.0f} points/game,\\n99% of teams beat good oppenents by {:.0f} points/game or less,\\nwhile the the team that blows out all their opponents typically wins by {:.0f} points/game, which belongs to rank 1.\".format(data['SRS'].mean(),data['SRS'].quantile(0.99), data['SRS'].max()))"
   ]
  },
  {
   "cell_type": "code",
   "execution_count": null,
   "metadata": {
    "scrolled": false
   },
   "outputs": [],
   "source": [
    "sns.jointplot(\"Rk\", 'SRS', data=data, kind=\"reg\", xlim=(70, 0), ylim=(0, 30), color=\"b\", height=8)"
   ]
  },
  {
   "cell_type": "markdown",
   "metadata": {},
   "source": [
    "Simple Rating System (SRS) clearly produces a much tighter trend line, and appears to spike towards the better ranked teams. Because SRS is calculated using Strength of Schedule, I assume that explains the spike."
   ]
  },
  {
   "cell_type": "markdown",
   "metadata": {},
   "source": [
    "# Those who blowout opponents per 100 possessions"
   ]
  },
  {
   "cell_type": "code",
   "execution_count": null,
   "metadata": {},
   "outputs": [],
   "source": [
    "print('**All numbers rounded**')\n",
    "print(\"The average team beats oppenents by {:.0f} points/game per 100 possessions,\\n99% of teams beat oppenents by {:.0f} points/game or less per 100 possessions,\\nwhile the team that blows out all their opponents per typically wins by {:.0f} points/game per 100 possessions, \\nwhich belongs to rank 3.\".format(data['NRtg'].mean(),data['NRtg'].quantile(0.99), data['NRtg'].max()))"
   ]
  },
  {
   "cell_type": "code",
   "execution_count": null,
   "metadata": {},
   "outputs": [],
   "source": [
    "sns.jointplot(\"Rk\", 'NRtg', data=data, kind=\"reg\", xlim=(70, 0), ylim=(10, 40), color=\"b\", height=8)"
   ]
  },
  {
   "cell_type": "markdown",
   "metadata": {},
   "source": [
    "Net Rating, which is MOV/100 possessions, displays the highest correlation to rank. Furthermore, this metric removes the outliers in the lower ranks. Again, we can see a spike towards the better ranked teams. But, Rank 3 actually shows the has the highest Net Rating."
   ]
  },
  {
   "cell_type": "code",
   "execution_count": null,
   "metadata": {
    "scrolled": true
   },
   "outputs": [],
   "source": [
    "data"
   ]
  }
 ],
 "metadata": {
  "kernelspec": {
   "display_name": "Python 3",
   "language": "python",
   "name": "python3"
  },
  "language_info": {
   "codemirror_mode": {
    "name": "ipython",
    "version": 3
   },
   "file_extension": ".py",
   "mimetype": "text/x-python",
   "name": "python",
   "nbconvert_exporter": "python",
   "pygments_lexer": "ipython3",
   "version": "3.7.1"
  }
 },
 "nbformat": 4,
 "nbformat_minor": 2
}
